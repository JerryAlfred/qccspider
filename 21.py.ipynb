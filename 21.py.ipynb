{
 "cells": [
  {
   "cell_type": "code",
   "execution_count": 7,
   "metadata": {},
   "outputs": [],
   "source": [
    "from bs4 import BeautifulSoup\n",
    "\n",
    "import re\n"
   ]
  },
  {
   "cell_type": "code",
   "execution_count": 15,
   "metadata": {},
   "outputs": [],
   "source": [
    "html = \"\"\"\n",
    "<html><head><title>The Dormouse's story</title></head>\n",
    "<body>\n",
    "<p class=\"title\" name=\"dromouse\"><b>The Dormouse's story</b></p>\n",
    "<p class=\"story\">Once upon a time there were three little sisters; and their names were\n",
    "<a href=\"http://example.com/elsie\" class=\"sister\" id=\"link1\"><!-- Elsie --></a>,\n",
    "<a href=\"http://example.com/lacie\" class=\"sister\" id=\"link2\">Lacie</a> and\n",
    "<a href=\"http://example.com/tillie\" class=\"sister\" id=\"link3\">Tillie</a>;\n",
    "and they lived at the bottom of a well.</p>\n",
    "<p class=\"story\">There will have more story</p>\n",
    "\"\"\""
   ]
  },
  {
   "cell_type": "code",
   "execution_count": 16,
   "metadata": {},
   "outputs": [],
   "source": [
    "soup = BeautifulSoup(html)"
   ]
  },
  {
   "cell_type": "code",
   "execution_count": 17,
   "metadata": {},
   "outputs": [
    {
     "name": "stdout",
     "output_type": "stream",
     "text": [
      "<html>\n",
      " <head>\n",
      "  <title>\n",
      "   The Dormouse's story\n",
      "  </title>\n",
      " </head>\n",
      " <body>\n",
      "  <p class=\"title\" name=\"dromouse\">\n",
      "   <b>\n",
      "    The Dormouse's story\n",
      "   </b>\n",
      "  </p>\n",
      "  <p class=\"story\">\n",
      "   Once upon a time there were three little sisters; and their names were\n",
      "   <a class=\"sister\" href=\"http://example.com/elsie\" id=\"link1\">\n",
      "    <!-- Elsie -->\n",
      "   </a>\n",
      "   ,\n",
      "   <a class=\"sister\" href=\"http://example.com/lacie\" id=\"link2\">\n",
      "    Lacie\n",
      "   </a>\n",
      "   and\n",
      "   <a class=\"sister\" href=\"http://example.com/tillie\" id=\"link3\">\n",
      "    Tillie\n",
      "   </a>\n",
      "   ;\n",
      "and they lived at the bottom of a well.\n",
      "  </p>\n",
      "  <p class=\"story\">\n",
      "   There will have more story\n",
      "  </p>\n",
      " </body>\n",
      "</html>\n"
     ]
    }
   ],
   "source": [
    "print (soup.prettify())\n"
   ]
  },
  {
   "cell_type": "code",
   "execution_count": 18,
   "metadata": {},
   "outputs": [
    {
     "name": "stdout",
     "output_type": "stream",
     "text": [
      "soup.title:  <title>The Dormouse's story</title>\n",
      "soup.title.name:  title\n",
      "soup.title.string:  The Dormouse's story\n",
      "soup.title.parent.name:  head\n",
      "soup.p:  <p class=\"title\" name=\"dromouse\"><b>The Dormouse's story</b></p>\n",
      "soup.p['class']:  ['title']\n",
      "soup.a['href']:  http://example.com/elsie\n",
      "[<b>The Dormouse's story</b>]\n",
      "<a href=\"http://www.baidu.com/\" id=\"link1\" name=\"百度\"><!-- Elsie --></a>\n",
      "[<a href=\"http://www.baidu.com/\" id=\"link1\" name=\"百度\"><!-- Elsie --></a>, <a class=\"sister\" href=\"http://example.com/lacie\" id=\"link2\">Lacie</a>, <a class=\"sister\" href=\"http://example.com/tillie\" id=\"link3\">Tillie</a>]\n",
      "<a class=\"sister\" href=\"http://example.com/tillie\" id=\"link3\">Tillie</a>\n",
      "The Dormouse's story\n",
      "\n",
      "The Dormouse's story\n",
      "Once upon a time there were three little sisters; and their names were\n",
      ",\n",
      "Lacie and\n",
      "Tillie;\n",
      "and they lived at the bottom of a well.\n",
      "There will have more story\n",
      "\n",
      "{'href': 'http://www.baidu.com/', 'id': 'link1', 'name': '百度'}\n",
      "http://www.baidu.com/\n",
      "http://example.com/lacie\n",
      "http://example.com/tillie\n",
      "<b>The Dormouse's story</b>\n",
      "body\n",
      "b\n"
     ]
    }
   ],
   "source": [
    "#输出第一个 title 标签\n",
    "print (\"soup.title: \", soup.title)\n",
    " \n",
    "#输出第一个 title 标签的标签名称\n",
    "print (\"soup.title.name: \", soup.title.name)\n",
    " \n",
    "#输出第一个 title 标签的包含内容\n",
    "print (\"soup.title.string: \", soup.title.string)\n",
    " \n",
    "#输出第一个 title 标签的父标签的标签名称\n",
    "print (\"soup.title.parent.name: \", soup.title.parent.name)\n",
    " \n",
    "#输出第一个  p 标签\n",
    "print (\"soup.p: \", soup.p)\n",
    " \n",
    "#输出第一个  p 标签的 class 属性内容\n",
    "print (\"soup.p['class']: \", soup.p['class'])\n",
    " \n",
    "#输出第一个  a 标签的  href 属性内容\n",
    "print (\"soup.a['href']: \", soup.a['href'])\n",
    "\n",
    "'''\n",
    "soup的属性可以被添加,删除或修改. 再说一次, soup的属性操作方法与字典一样\n",
    "'''\n",
    "\n",
    "#修改第一个 a 标签的href属性为 http://www.baidu.com/\n",
    "soup.a['href'] = 'http://www.baidu.com/'\n",
    " \n",
    "#给第一个 a 标签添加 name 属性\n",
    "soup.a['name'] = u'百度'\n",
    " \n",
    "#删除第一个 a 标签的 class 属性为\n",
    "del soup.a['class']\n",
    " \n",
    "##输出第一个  p 标签的所有子节点\n",
    "print (soup.p.contents)\n",
    "       \n",
    "#输出第一个  a 标签\n",
    "print (soup.a)\n",
    " \n",
    "#输出所有的  a 标签，以列表形式显示\n",
    "print (soup.find_all('a'))\n",
    " \n",
    "#输出第一个 id 属性等于  link3 的  a 标签\n",
    "print (soup.find(id=\"link3\"))\n",
    " \n",
    "#获取所有文字内容\n",
    "print(soup.get_text())\n",
    " \n",
    "#输出第一个  a 标签的所有属性信息\n",
    "print (soup.a.attrs)\n",
    " \n",
    "for link in soup.find_all('a'):\n",
    "    #获取 link 的  href 属性内容\n",
    "    print(link.get('href'))\n",
    " \n",
    "#对soup.p的子节点进行循环输出    \n",
    "for child in soup.p.children:\n",
    "    print(child)\n",
    " \n",
    "#正则匹配，名字中带有b的标签\n",
    "for tag in soup.find_all(re.compile(\"b\")):\n",
    "    print(tag.name)\n",
    "\n",
    "    "
   ]
  },
  {
   "cell_type": "code",
   "execution_count": null,
   "metadata": {},
   "outputs": [],
   "source": []
  },
  {
   "cell_type": "code",
   "execution_count": null,
   "metadata": {},
   "outputs": [],
   "source": []
  },
  {
   "cell_type": "code",
   "execution_count": null,
   "metadata": {},
   "outputs": [],
   "source": []
  }
 ],
 "metadata": {
  "kernelspec": {
   "display_name": "Python 3",
   "language": "python",
   "name": "python3"
  },
  "language_info": {
   "codemirror_mode": {
    "name": "ipython",
    "version": 3
   },
   "file_extension": ".py",
   "mimetype": "text/x-python",
   "name": "python",
   "nbconvert_exporter": "python",
   "pygments_lexer": "ipython3",
   "version": "3.7.4"
  }
 },
 "nbformat": 4,
 "nbformat_minor": 2
}
