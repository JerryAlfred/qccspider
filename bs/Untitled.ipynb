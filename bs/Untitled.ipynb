{
 "cells": [
  {
   "cell_type": "code",
   "execution_count": 1,
   "metadata": {},
   "outputs": [],
   "source": [
    "from bs4 import BeautifulSoup\n",
    "\n",
    "import re\n",
    "\n",
    "#-*- coding-8 -*-\n",
    "import requests\n",
    "import lxml\n",
    "import sys\n",
    "from bs4 import BeautifulSoup\n",
    "import xlwt\n",
    "import time\n",
    "import urllib\n",
    "\n",
    "import pandas as pd\n",
    "import numpy\n",
    "\n",
    "\n"
   ]
  },
  {
   "cell_type": "code",
   "execution_count": 3,
   "metadata": {},
   "outputs": [
    {
     "name": "stdout",
     "output_type": "stream",
     "text": [
      "{2: 2, 3: 2, 4: 1, 1: 1}\n"
     ]
    }
   ],
   "source": [
    "a = [1,2,3]\n",
    "\n",
    "b = [2,3,4]\n",
    "\n",
    "c = b+a\n",
    "\n",
    "dict = {}\n",
    "for key in c:\n",
    "    dict[key] = dict.get(key, 0) + 1\n",
    "print (dict)"
   ]
  },
  {
   "cell_type": "code",
   "execution_count": 5,
   "metadata": {},
   "outputs": [
    {
     "name": "stdout",
     "output_type": "stream",
     "text": [
      "              公司名字      原本表格里面的文字  企查查搜索结果数    公司标签 法定法人           注册资本  \\\n",
      "0    七台河市利丰源商贸有限公司   七台河利丰源商贸有限公司         1          徐庆利        30万元人民币   \n",
      "1       三亚凤凰惠隆冷饮商行     三亚凤凰惠隆冷饮商行         1          郭伟弟              -   \n",
      "2      三明市合林贸易有限公司     三明合林贸易有限公司         4          吴合林        50万元人民币   \n",
      "3    三河市俊鑫奕城商贸有限公司  三河市俊鑫奕城商贸有限公司         1          李春梅       200万元人民币   \n",
      "4    上海久耶供应链管理有限公司  上海久耶供应链管理有限公司        19   战略投资    张冰  333.7607万元人民币   \n",
      "..             ...            ...       ...     ...  ...            ...   \n",
      "514     鱼台亿腾商贸有限公司        重庆恒永商贸行         1          刘家栋       100万元人民币   \n",
      "515    鸡西市易和商贸有限公司      重庆恒荣食品经营部         1          李凤莲        10万元人民币   \n",
      "516   鹤岗市悦生活商贸有限公司     重庆捷隆商贸有限公司         1          裴子同        30万元人民币   \n",
      "517    齐河县旭泽商贸有限公司     重庆汇碧商贸有限公司         1          朱芬芬        60万元人民币   \n",
      "518    龙沙区鑫事成食品批发部     重庆聚豪商务有限公司         1          房美菊              -   \n",
      "\n",
      "           成立日期 法人邮箱                                               法人电话  \\\n",
      "0    2016-09-26   电话  \\n                                    邮箱：\\n   ...   \n",
      "1    2012-11-28   电话  \\n                                    邮箱：\\n   ...   \n",
      "2    2019-11-20   电话  \\n                                    邮箱：\\n   ...   \n",
      "3    2015-01-13   电话  \\n                                    邮箱：\\n   ...   \n",
      "4    2014-11-10   电话  \\n                                    邮箱：\\n   ...   \n",
      "..          ...  ...                                                ...   \n",
      "514  2015-07-28   电话  \\n                                    邮箱：\\n   ...   \n",
      "515  2015-01-16   电话  \\n                                    邮箱：\\n   ...   \n",
      "516  2016-11-14   电话  \\n                                    邮箱：\\n   ...   \n",
      "517  2018-03-01   电话  \\n                                    邮箱：\\n   ...   \n",
      "518  2017-09-27   电话  \\n                                    邮箱：\\n   ...   \n",
      "\n",
      "                                                  公司地址 公司状态  \\\n",
      "0                           黑龙江省七台河市桃山区桃南街怡安小区7号楼12号车库   存续   \n",
      "1                                         海南省三亚市天涯区芒果村   存续   \n",
      "2                            福建省三明市三元区富文路11号6幢202、203室   存续   \n",
      "3          河北省廊坊市三河市燕郊高新区南外环路北侧金谷·爱舒荷第A10幢1单元14层1406号房   存续   \n",
      "4    官网：\\n                                 www.jiuy...   存续   \n",
      "..                                                 ...  ...   \n",
      "514                     鱼台县城湖陵一路东、鱼新三路东段路北(谷亭街道办事处建设村)   在业   \n",
      "515                         黑龙江省鸡西市鸡冠区东山阳光家园11号楼1单元103   存续   \n",
      "516                         鹤岗市南山区33委交警队2号住宅楼-105室(车库)   存续   \n",
      "517                            山东省德州市齐河县城区齐贸大街392号2排4号   在业   \n",
      "518                             龙沙区新合小区安居8#楼05单元02层01号   存续   \n",
      "\n",
      "                                                    股东  \\\n",
      "0                                           徐庆利; 赵施梅;    \n",
      "1                                                陈南光;    \n",
      "2                                            吴合林; 蔡琦;    \n",
      "3                                       李俊; 吴艳丽; 李春梅;    \n",
      "4    何建辉; 郭德宏; 樊清信; 重庆艾斯图必贸易有限公司; 柯仟; 云南九曳供应链管理有限公司...   \n",
      "..                                                 ...   \n",
      "514                                          刘家栋; 刘卫;    \n",
      "515                                         李凤莲; 李雅斌;    \n",
      "516                                         杨洪振; 裴子同;    \n",
      "517                                         张正婷; 朱芬芬;    \n",
      "518                                              房美菊;    \n",
      "\n",
      "                                          网站  \n",
      "0    https://www.qcc.com//firm/64EC397.shtml  \n",
      "1    https://www.qcc.com//firm/87TY0Z2.shtml  \n",
      "2    https://www.qcc.com//firm/830GLN7.shtml  \n",
      "3    https://www.qcc.com//firm/69SUPSP.shtml  \n",
      "4    https://www.qcc.com//firm/94QA4S3.shtml  \n",
      "..                                       ...  \n",
      "514  https://www.qcc.com//firm/981OOPV.shtml  \n",
      "515  https://www.qcc.com//firm/62HNCQR.shtml  \n",
      "516  https://www.qcc.com//firm/29K95KO.shtml  \n",
      "517  https://www.qcc.com//firm/35HGRAZ.shtml  \n",
      "518  https://www.qcc.com//firm/99HGJ3W.shtml  \n",
      "\n",
      "[519 rows x 13 columns]\n"
     ]
    }
   ],
   "source": [
    "\n",
    "df = pd.read_excel ('data/result.xls')\n",
    "print (df)\n"
   ]
  },
  {
   "cell_type": "code",
   "execution_count": 7,
   "metadata": {},
   "outputs": [
    {
     "data": {
      "text/plain": [
       "0                                             徐庆利; 赵施梅; \n",
       "1                                                  陈南光; \n",
       "2                                              吴合林; 蔡琦; \n",
       "3                                         李俊; 吴艳丽; 李春梅; \n",
       "4      何建辉; 郭德宏; 樊清信; 重庆艾斯图必贸易有限公司; 柯仟; 云南九曳供应链管理有限公司...\n",
       "                             ...                        \n",
       "514                                            刘家栋; 刘卫; \n",
       "515                                           李凤莲; 李雅斌; \n",
       "516                                           杨洪振; 裴子同; \n",
       "517                                           张正婷; 朱芬芬; \n",
       "518                                                房美菊; \n",
       "Name: 股东, Length: 519, dtype: object"
      ]
     },
     "execution_count": 7,
     "metadata": {},
     "output_type": "execute_result"
    }
   ],
   "source": [
    "df.股东"
   ]
  },
  {
   "cell_type": "code",
   "execution_count": null,
   "metadata": {},
   "outputs": [],
   "source": []
  },
  {
   "cell_type": "code",
   "execution_count": null,
   "metadata": {},
   "outputs": [],
   "source": []
  }
 ],
 "metadata": {
  "kernelspec": {
   "display_name": "Python 3",
   "language": "python",
   "name": "python3"
  },
  "language_info": {
   "codemirror_mode": {
    "name": "ipython",
    "version": 3
   },
   "file_extension": ".py",
   "mimetype": "text/x-python",
   "name": "python",
   "nbconvert_exporter": "python",
   "pygments_lexer": "ipython3",
   "version": "3.7.4"
  }
 },
 "nbformat": 4,
 "nbformat_minor": 2
}
